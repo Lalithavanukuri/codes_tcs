{
  "nbformat": 4,
  "nbformat_minor": 0,
  "metadata": {
    "colab": {
      "provenance": []
    },
    "kernelspec": {
      "name": "python3",
      "display_name": "Python 3"
    },
    "language_info": {
      "name": "python"
    }
  },
  "cells": [
    {
      "cell_type": "code",
      "source": [
        "# find the no.of replacing values in order of fibannocci series  like  2 1 3 4 7 11 18\n",
        "n=int(input()) #len of array\n",
        "arr=list(map(int,input().split()))\n",
        "fib=[2,1]\n",
        "for i in range(2,n):  # generating a set of fiboonocci series\n",
        "  fib.append(fib[i-1]+fib[i-2])\n",
        "c=0\n",
        "# checking every approach - 1st one\n",
        "for i in range(size):\n",
        "  if(arr[i]!=fib[i]):\n",
        "    c+=1\n",
        "print(c)\n",
        "\n",
        "\"\"\"\n",
        "a=set(arr)\n",
        "f=set(fib)\n",
        "print(f-a) #set cant be used when order is required becoz if order changes even if contains elements\n",
        "\"\"\""
      ],
      "metadata": {
        "colab": {
          "base_uri": "https://localhost:8080/"
        },
        "id": "F1Lhhkx3q8kJ",
        "outputId": "d0bc4fc2-80da-4b75-db06-3f7ae80df128"
      },
      "execution_count": null,
      "outputs": [
        {
          "output_type": "stream",
          "name": "stdout",
          "text": [
            "7 \n",
            "2 1 3 4 7 11 18\n",
            "0\n"
          ]
        }
      ]
    },
    {
      "cell_type": "code",
      "source": [
        "#find no of factors avoiding duplicates like 16 has 2 outputs 1*16,2*8, but not 4*4\n",
        "# other test case n=14 o/p: 1*14 and 2*7 only\n",
        "n=int(input())\n",
        "f=list()\n",
        "for i in range(1,n+1):\n",
        "  if(n%i==0 and not(n/i==i)):\n",
        "      f.append(i)\n",
        "print(f)\n",
        "print(int(len(f)/2)) # or print(len(f)//2)\n"
      ],
      "metadata": {
        "colab": {
          "base_uri": "https://localhost:8080/"
        },
        "id": "apcRdw4rxcy9",
        "outputId": "20a663d2-bd23-4105-e87a-3995111a5871"
      },
      "execution_count": null,
      "outputs": [
        {
          "output_type": "stream",
          "name": "stdout",
          "text": [
            "45\n",
            "[1, 3, 5, 9, 15, 45]\n",
            "3\n"
          ]
        }
      ]
    },
    {
      "cell_type": "code",
      "source": [
        "#2nd approach\n",
        "import math\n",
        "n=int(input())\n",
        "for i in range(1,math.ceil(math.sqrt(n))):  # here for 16 upto 1-4.0\n",
        "  print(i)\n",
        "  if(n%i==0):\n",
        "    c+=1\n",
        "print(int(c/2))"
      ],
      "metadata": {
        "colab": {
          "base_uri": "https://localhost:8080/"
        },
        "id": "pwPWt20n0_F8",
        "outputId": "73de3f62-4672-4d67-c50e-37d74532e862"
      },
      "execution_count": null,
      "outputs": [
        {
          "output_type": "stream",
          "name": "stdout",
          "text": [
            "16\n",
            "1\n",
            "2\n",
            "3\n",
            "5\n"
          ]
        }
      ]
    },
    {
      "cell_type": "code",
      "source": [
        "s=input()\n",
        "for i in s:\n",
        "  if(i.isalpha()):\n",
        "    print(i,end='')"
      ],
      "metadata": {
        "colab": {
          "base_uri": "https://localhost:8080/"
        },
        "id": "Rep8Yrp72hVV",
        "outputId": "1c78c780-83f3-4ee4-835a-1827d428d1f9"
      },
      "execution_count": null,
      "outputs": [
        {
          "output_type": "stream",
          "name": "stdout",
          "text": [
            "abfsd245td\n",
            "abfsdtd"
          ]
        }
      ]
    },
    {
      "cell_type": "code",
      "source": [
        "#given a string check after 1 swap getting a palindrome or not\n",
        "#i/p abab true  or abcabc true\n",
        "# take 2 for loops check every iteration palindrome or not\n",
        "s=input()\n"
      ],
      "metadata": {
        "id": "1TdCLmcH2vJO"
      },
      "execution_count": null,
      "outputs": []
    },
    {
      "cell_type": "code",
      "source": [
        "#find strnage numbers\n",
        "\"\"\"\n",
        "n=15\n",
        "prime factors of n are 3,5\n",
        "gratest pf is 5\n",
        "sqrt of 15 is 3.87<5 greater so o/p is strange\n",
        "\"\"\"\n",
        "def prime(n):\n",
        "  c=0\n",
        "  for i in range(1,n+1):\n",
        "    if(n%i==0):\n",
        "      c+=1\n",
        "  if(c==2):\n",
        "    return True\n",
        "  else:\n",
        "    return False\n",
        "\n",
        "def factors(n):\n",
        "  for i in range(n):\n",
        "    if(n%i==0):\n",
        "      print(i)\n",
        "      print(ok)\n",
        "      if(prime(i)):\n",
        "        print(i)\n",
        "\n",
        "n=int(input())\n",
        "\n",
        "print(fact(n))\n",
        "\n",
        "\n",
        "\n",
        "\n"
      ],
      "metadata": {
        "colab": {
          "base_uri": "https://localhost:8080/"
        },
        "id": "YuktfG643__D",
        "outputId": "461978b6-6e9a-4de0-996f-80ab972a1795"
      },
      "execution_count": null,
      "outputs": [
        {
          "output_type": "stream",
          "name": "stdout",
          "text": [
            "4\n",
            "False\n"
          ]
        }
      ]
    },
    {
      "cell_type": "code",
      "source": [
        "def prime(i):\n",
        "  c=0\n",
        "  for j in range(2,n//2):\n",
        "    if(i%j)==0:\n",
        "      c+=1\n",
        "  return c==0\n",
        "\n",
        "\n",
        "n=int(input())\n",
        "for i in range(2,n):\n",
        "  if n%i==0:\n",
        "    if(prime(i)):\n",
        "      pf=i\n",
        "if(pf>n**(0.5)):\n",
        "  print(\"Strange\")\n",
        "else:\n",
        "  print(\"Not Strange\")\n"
      ],
      "metadata": {
        "id": "0-wnY_B97jtl"
      },
      "execution_count": null,
      "outputs": []
    },
    {
      "cell_type": "code",
      "source": [
        "\"\"\"\n",
        "# i/p 5 o/p: dicisors of 5 are 1,5 ,but not subtact from 5 so 1 ,n=4,\n",
        "reduced num=4 factors 1,2,3 so sub by 2 n=2 .. o/p=4   i/p:4 o/p :3\n",
        "min no steps to reduce n=0 so consider max factors\n",
        "\"\"\"\n",
        "\n",
        "def factors(n):\n",
        "  f=1\n",
        "  for i in range(1,n):\n",
        "    if(n%i==0 and i!=n): # no need to check if i!=n becoz range only upto n\n",
        "      f=i\n",
        "  return f\n",
        "n=int(input())\n",
        "c=0\n",
        "while(n):\n",
        "  i=factors(n)\n",
        "  n=n-i\n",
        "  c+=1\n",
        "\n",
        "print(c)"
      ],
      "metadata": {
        "colab": {
          "base_uri": "https://localhost:8080/"
        },
        "id": "c967XFyo_3vo",
        "outputId": "f432b31a-a01d-4259-ce22-5f762ab8f657"
      },
      "execution_count": null,
      "outputs": [
        {
          "output_type": "stream",
          "name": "stdout",
          "text": [
            "5\n",
            "4\n"
          ]
        }
      ]
    },
    {
      "cell_type": "code",
      "source": [
        "\"\"\"i/p:aabbcde len=7 a2b2c1d1e1 len=10 10>7 so o/p:NO \"\"\"\n",
        "# if not consecutive use this as set no sequence\n",
        "n=input()\n",
        "s=set(n)\n",
        "ns=[]\n",
        "for i in s:\n",
        "  c=n.count(i)\n",
        "  ns.append(i)\n",
        "  ns.append(str(c))\n",
        "w=\"\".join(ns)\n",
        "if(len(w)<len(n)):\n",
        "  print(\"Yes\")\n",
        "else:\n",
        "  print(\"No\")"
      ],
      "metadata": {
        "colab": {
          "base_uri": "https://localhost:8080/"
        },
        "id": "WrWKDD0pEOB5",
        "outputId": "ae5eca2d-2796-4a73-fb5e-b39b7ea946f7"
      },
      "execution_count": null,
      "outputs": [
        {
          "output_type": "stream",
          "name": "stdout",
          "text": [
            "aabbcde\n",
            "No\n"
          ]
        }
      ]
    },
    {
      "cell_type": "code",
      "source": [
        "\n",
        "\"\"\"i/p:aabbcde len=7 a2b2c1d1e1 len=10 10>7 so o/p: NO \"\"\"\n",
        "n=input()\n",
        "ns=[]\n",
        "c=1\n",
        "while(i!=len(n)-1):\n",
        "  ns.append(n[i])\n",
        "  if(n[i]==n[i+1]):\n",
        "    i+=1\n",
        "\n"
      ],
      "metadata": {
        "colab": {
          "base_uri": "https://localhost:8080/",
          "height": 70
        },
        "id": "Y49u0byCHaHh",
        "outputId": "edeab3ee-3e2d-4e26-9250-e8195a6c232d"
      },
      "execution_count": null,
      "outputs": [
        {
          "output_type": "stream",
          "name": "stdout",
          "text": [
            "aaaaa\n",
            "['a', 2, 'a', 2, 'a', 2, 'a', 2]\n"
          ]
        },
        {
          "output_type": "execute_result",
          "data": {
            "text/plain": [
              "'\\n  c=n.count(i)\\n  ns.append(i)\\n  ns.append(str(c))\\nprint(ns)\\nw=\"\".join(ns)\\nprint(w)\\nl=len(w)\\nprint(l)\\nif(len(w)<len(n)):\\n  print(\"Yes\")\\nelse:\\n  print(\"No\")\\n'"
            ],
            "application/vnd.google.colaboratory.intrinsic+json": {
              "type": "string"
            }
          },
          "metadata": {},
          "execution_count": 91
        }
      ]
    },
    {
      "cell_type": "code",
      "source": [
        "#up problem only -sir approach (consecutive approach)\n",
        "\n",
        "s=input()\n",
        "r=\"\"\n",
        "c=1\n",
        "for i in range(len(s)-1):\n",
        "  if(s[i]==s[i+1]):\n",
        "    c+=1\n",
        "  else:\n",
        "    r+=s[i]+str(c)\n",
        "    c=1\n",
        "r+=s[-1]+str(c)\n",
        "print(r)\n",
        "if(len(r)>len(s)):\n",
        "  print('No')\n",
        "else:\n",
        "  print('Yes')"
      ],
      "metadata": {
        "colab": {
          "base_uri": "https://localhost:8080/"
        },
        "id": "qO6dk4QgLiQ4",
        "outputId": "1edf8c5d-5a13-44c3-d5d8-a8ef7dc8557b"
      },
      "execution_count": null,
      "outputs": [
        {
          "output_type": "stream",
          "name": "stdout",
          "text": [
            "aaaabb\n",
            "a4b2\n",
            "Yes\n"
          ]
        }
      ]
    },
    {
      "cell_type": "code",
      "source": [
        "n1=int(input())\n",
        "n2=int(input())\n",
        "x=int(input())\n",
        "c1=x\n",
        "c2=1\n",
        "count=0\n",
        "while(c1>c2):\n",
        "  c1+=n1\n",
        "  c2+=n2\n",
        "  count+=1\n",
        "  print(c2,c1)\n",
        "print(count)\n"
      ],
      "metadata": {
        "colab": {
          "base_uri": "https://localhost:8080/"
        },
        "id": "gI0gMk1KNsHa",
        "outputId": "8ad0da0c-275d-4f94-f995-f5b7830263f5"
      },
      "execution_count": null,
      "outputs": [
        {
          "output_type": "stream",
          "name": "stdout",
          "text": [
            "3\n",
            "4\n",
            "1\n",
            "0\n"
          ]
        }
      ]
    }
  ]
}